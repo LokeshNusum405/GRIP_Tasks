{
  "nbformat": 4,
  "nbformat_minor": 0,
  "metadata": {
    "colab": {
      "name": "DataScience_Task-1_SupervisedLearning",
      "provenance": [],
      "collapsed_sections": []
    },
    "kernelspec": {
      "name": "python3",
      "display_name": "Python 3"
    },
    "language_info": {
      "name": "python"
    }
  },
  "cells": [
    {
      "cell_type": "markdown",
      "metadata": {
        "id": "RGv68Ptpixf3"
      },
      "source": [
        "#Name: NUSUM LOKESH\n"
      ]
    },
    {
      "cell_type": "markdown",
      "metadata": {
        "id": "PvCK28tpiDN7"
      },
      "source": [
        "##Graduate Rotational Internship Program (GRIP)\n",
        "##The Sparks Foundation\n",
        "\n",
        "### Task-1\n",
        "\n",
        "####Prediction using Supervised ML\n",
        "\n",
        "(Level - Beginner)\n",
        "\n",
        "● Predict the percentage of an student based on the no. of study hours.\n",
        "\n",
        "● This is a simple linear regression task as it involves just 2 variables.\n",
        "\n",
        "● You can use R, Python, SAS Enterprise Miner or any other tool\n",
        "\n",
        "● Data can be found at http://bit.ly/w-data\n",
        "\n",
        "● What will be predicted score if a student studies for 9.25 hrs/ day?\n",
        "\n",
        "● Sample Solution : https://bit.ly/2HxiGGJ\n",
        "\n",
        "● Task submission:\n",
        "1. Host the code on GitHub Repository (public). Record the code and\n",
        "output in a video. Post the video on YouTube\n",
        "2. Share links of code (GitHub) and video (YouTube) as a post on\n",
        "YOUR LinkedIn profile, not TSF Network.\n",
        "3. Submit the LinkedIn link in Task Submission Form when shared."
      ]
    },
    {
      "cell_type": "markdown",
      "metadata": {
        "id": "X99SLV60i-3p"
      },
      "source": [
        "##Predicting the percentage of a student based on the no.of hours he studied"
      ]
    },
    {
      "cell_type": "code",
      "metadata": {
        "id": "NlfiFGj-CuQC"
      },
      "source": [
        "#importing the required Libraries\n",
        "import numpy as np\n",
        "import pandas as pd\n",
        "import matplotlib.pyplot as plt\n",
        "import seaborn as sns\n",
        "from sklearn.model_selection import train_test_split\n",
        "from sklearn.linear_model import LinearRegression\n",
        "from sklearn.metrics import mean_absolute_error"
      ],
      "execution_count": 2,
      "outputs": []
    },
    {
      "cell_type": "code",
      "metadata": {
        "colab": {
          "base_uri": "https://localhost:8080/",
          "height": 831
        },
        "id": "FIl8AiFGkKwL",
        "outputId": "637e5dc0-ad2c-4aeb-c9b1-abe1913d9eb5"
      },
      "source": [
        "#reading the data from the Given link\n",
        "data = pd.read_csv(\"http://bit.ly/w-data\")\n",
        "data\n"
      ],
      "execution_count": 3,
      "outputs": [
        {
          "output_type": "execute_result",
          "data": {
            "text/html": [
              "<div>\n",
              "<style scoped>\n",
              "    .dataframe tbody tr th:only-of-type {\n",
              "        vertical-align: middle;\n",
              "    }\n",
              "\n",
              "    .dataframe tbody tr th {\n",
              "        vertical-align: top;\n",
              "    }\n",
              "\n",
              "    .dataframe thead th {\n",
              "        text-align: right;\n",
              "    }\n",
              "</style>\n",
              "<table border=\"1\" class=\"dataframe\">\n",
              "  <thead>\n",
              "    <tr style=\"text-align: right;\">\n",
              "      <th></th>\n",
              "      <th>Hours</th>\n",
              "      <th>Scores</th>\n",
              "    </tr>\n",
              "  </thead>\n",
              "  <tbody>\n",
              "    <tr>\n",
              "      <th>0</th>\n",
              "      <td>2.5</td>\n",
              "      <td>21</td>\n",
              "    </tr>\n",
              "    <tr>\n",
              "      <th>1</th>\n",
              "      <td>5.1</td>\n",
              "      <td>47</td>\n",
              "    </tr>\n",
              "    <tr>\n",
              "      <th>2</th>\n",
              "      <td>3.2</td>\n",
              "      <td>27</td>\n",
              "    </tr>\n",
              "    <tr>\n",
              "      <th>3</th>\n",
              "      <td>8.5</td>\n",
              "      <td>75</td>\n",
              "    </tr>\n",
              "    <tr>\n",
              "      <th>4</th>\n",
              "      <td>3.5</td>\n",
              "      <td>30</td>\n",
              "    </tr>\n",
              "    <tr>\n",
              "      <th>5</th>\n",
              "      <td>1.5</td>\n",
              "      <td>20</td>\n",
              "    </tr>\n",
              "    <tr>\n",
              "      <th>6</th>\n",
              "      <td>9.2</td>\n",
              "      <td>88</td>\n",
              "    </tr>\n",
              "    <tr>\n",
              "      <th>7</th>\n",
              "      <td>5.5</td>\n",
              "      <td>60</td>\n",
              "    </tr>\n",
              "    <tr>\n",
              "      <th>8</th>\n",
              "      <td>8.3</td>\n",
              "      <td>81</td>\n",
              "    </tr>\n",
              "    <tr>\n",
              "      <th>9</th>\n",
              "      <td>2.7</td>\n",
              "      <td>25</td>\n",
              "    </tr>\n",
              "    <tr>\n",
              "      <th>10</th>\n",
              "      <td>7.7</td>\n",
              "      <td>85</td>\n",
              "    </tr>\n",
              "    <tr>\n",
              "      <th>11</th>\n",
              "      <td>5.9</td>\n",
              "      <td>62</td>\n",
              "    </tr>\n",
              "    <tr>\n",
              "      <th>12</th>\n",
              "      <td>4.5</td>\n",
              "      <td>41</td>\n",
              "    </tr>\n",
              "    <tr>\n",
              "      <th>13</th>\n",
              "      <td>3.3</td>\n",
              "      <td>42</td>\n",
              "    </tr>\n",
              "    <tr>\n",
              "      <th>14</th>\n",
              "      <td>1.1</td>\n",
              "      <td>17</td>\n",
              "    </tr>\n",
              "    <tr>\n",
              "      <th>15</th>\n",
              "      <td>8.9</td>\n",
              "      <td>95</td>\n",
              "    </tr>\n",
              "    <tr>\n",
              "      <th>16</th>\n",
              "      <td>2.5</td>\n",
              "      <td>30</td>\n",
              "    </tr>\n",
              "    <tr>\n",
              "      <th>17</th>\n",
              "      <td>1.9</td>\n",
              "      <td>24</td>\n",
              "    </tr>\n",
              "    <tr>\n",
              "      <th>18</th>\n",
              "      <td>6.1</td>\n",
              "      <td>67</td>\n",
              "    </tr>\n",
              "    <tr>\n",
              "      <th>19</th>\n",
              "      <td>7.4</td>\n",
              "      <td>69</td>\n",
              "    </tr>\n",
              "    <tr>\n",
              "      <th>20</th>\n",
              "      <td>2.7</td>\n",
              "      <td>30</td>\n",
              "    </tr>\n",
              "    <tr>\n",
              "      <th>21</th>\n",
              "      <td>4.8</td>\n",
              "      <td>54</td>\n",
              "    </tr>\n",
              "    <tr>\n",
              "      <th>22</th>\n",
              "      <td>3.8</td>\n",
              "      <td>35</td>\n",
              "    </tr>\n",
              "    <tr>\n",
              "      <th>23</th>\n",
              "      <td>6.9</td>\n",
              "      <td>76</td>\n",
              "    </tr>\n",
              "    <tr>\n",
              "      <th>24</th>\n",
              "      <td>7.8</td>\n",
              "      <td>86</td>\n",
              "    </tr>\n",
              "  </tbody>\n",
              "</table>\n",
              "</div>"
            ],
            "text/plain": [
              "    Hours  Scores\n",
              "0     2.5      21\n",
              "1     5.1      47\n",
              "2     3.2      27\n",
              "3     8.5      75\n",
              "4     3.5      30\n",
              "5     1.5      20\n",
              "6     9.2      88\n",
              "7     5.5      60\n",
              "8     8.3      81\n",
              "9     2.7      25\n",
              "10    7.7      85\n",
              "11    5.9      62\n",
              "12    4.5      41\n",
              "13    3.3      42\n",
              "14    1.1      17\n",
              "15    8.9      95\n",
              "16    2.5      30\n",
              "17    1.9      24\n",
              "18    6.1      67\n",
              "19    7.4      69\n",
              "20    2.7      30\n",
              "21    4.8      54\n",
              "22    3.8      35\n",
              "23    6.9      76\n",
              "24    7.8      86"
            ]
          },
          "metadata": {
            "tags": []
          },
          "execution_count": 3
        }
      ]
    },
    {
      "cell_type": "code",
      "metadata": {
        "colab": {
          "base_uri": "https://localhost:8080/"
        },
        "id": "DK1Hl5nVlZPG",
        "outputId": "0932ae1d-03fe-40c4-d075-d59cc3035d86"
      },
      "source": [
        "#checking whether data has null values\n",
        "#data.isnull() # it gives each box wise output whether it is null or not null (True/False)\n",
        "data.isnull == True"
      ],
      "execution_count": 4,
      "outputs": [
        {
          "output_type": "execute_result",
          "data": {
            "text/plain": [
              "False"
            ]
          },
          "metadata": {
            "tags": []
          },
          "execution_count": 4
        }
      ]
    },
    {
      "cell_type": "markdown",
      "metadata": {
        "id": "tTDpIBGpk-P2"
      },
      "source": [
        "## Predicting the percentage of an student based on the no.of study hours \n",
        "#### visualizing the data as there are no Null values\n",
        "Here ,\n",
        "\n",
        "#####taking \n",
        "x-axis (x)--> Hours\n",
        "\n",
        "y-axis (y) --> Scores"
      ]
    },
    {
      "cell_type": "code",
      "metadata": {
        "colab": {
          "base_uri": "https://localhost:8080/",
          "height": 295
        },
        "id": "6GZ170colF5o",
        "outputId": "4a968c65-a6ad-4c63-f31b-e2889abbc385"
      },
      "source": [
        "#Plotting the data to see the relationship b/w the data\n",
        "\n",
        "data.plot(x='Hours',y='Scores',style='x')\n",
        "plt.title(\"Hours Studied vs Scores in Percentage\")\n",
        "plt.xlabel(\"Hours Studied\")\n",
        "plt.ylabel(\"Scores in Percentage(%)\")\n",
        "plt.show()\n",
        "\n"
      ],
      "execution_count": 5,
      "outputs": [
        {
          "output_type": "display_data",
          "data": {
            "image/png": "[encoded data removed]",
            "text/plain": [
              "<Figure size 432x288 with 1 Axes>"
            ]
          },
          "metadata": {
            "tags": [],
            "needs_background": "light"
          }
        }
      ]
    },
    {
      "cell_type": "markdown",
      "metadata": {
        "id": "jnv3DQrfqHXM"
      },
      "source": [
        "#####From the graph above, we can see that there is a positive linear relationship between the no.of hours studied and percentage of scores."
      ]
    },
    {
      "cell_type": "code",
      "metadata": {
        "colab": {
          "base_uri": "https://localhost:8080/",
          "height": 390
        },
        "id": "J8y_6q27qpEM",
        "outputId": "15f53e49-1b23-4a38-a50d-1b771a02aebe"
      },
      "source": [
        "#Plotting the Regression line \n",
        "sns.regplot(x=data['Hours'],y=data['Scores'])\n",
        "plt.title(\"Hours Studied vs Scores Percentage\")\n",
        "plt.xlabel(\"Hours Studied\")\n",
        "plt.ylabel(\"Scores in Percentage(%)\")\n",
        "plt.show()\n",
        "#Corelation \n",
        "data.corr()"
      ],
      "execution_count": 6,
      "outputs": [
        {
          "output_type": "display_data",
          "data": {
            "image/png": "[encoded data removed]",
            "text/plain": [
              "<Figure size 432x288 with 1 Axes>"
            ]
          },
          "metadata": {
            "tags": [],
            "needs_background": "light"
          }
        },
        {
          "output_type": "execute_result",
          "data": {
            "text/html": [
              "<div>\n",
              "<style scoped>\n",
              "    .dataframe tbody tr th:only-of-type {\n",
              "        vertical-align: middle;\n",
              "    }\n",
              "\n",
              "    .dataframe tbody tr th {\n",
              "        vertical-align: top;\n",
              "    }\n",
              "\n",
              "    .dataframe thead th {\n",
              "        text-align: right;\n",
              "    }\n",
              "</style>\n",
              "<table border=\"1\" class=\"dataframe\">\n",
              "  <thead>\n",
              "    <tr style=\"text-align: right;\">\n",
              "      <th></th>\n",
              "      <th>Hours</th>\n",
              "      <th>Scores</th>\n",
              "    </tr>\n",
              "  </thead>\n",
              "  <tbody>\n",
              "    <tr>\n",
              "      <th>Hours</th>\n",
              "      <td>1.000000</td>\n",
              "      <td>0.976191</td>\n",
              "    </tr>\n",
              "    <tr>\n",
              "      <th>Scores</th>\n",
              "      <td>0.976191</td>\n",
              "      <td>1.000000</td>\n",
              "    </tr>\n",
              "  </tbody>\n",
              "</table>\n",
              "</div>"
            ],
            "text/plain": [
              "           Hours    Scores\n",
              "Hours   1.000000  0.976191\n",
              "Scores  0.976191  1.000000"
            ]
          },
          "metadata": {
            "tags": []
          },
          "execution_count": 6
        }
      ]
    },
    {
      "cell_type": "markdown",
      "metadata": {
        "id": "yKrW8Va7sBxo"
      },
      "source": [
        "\n",
        "We can confirm that the variables (x-Hours & y-Scores ) are positively correlated."
      ]
    },
    {
      "cell_type": "markdown",
      "metadata": {
        "id": "VTprXtm5sVAi"
      },
      "source": [
        "##Trainig the Model"
      ]
    },
    {
      "cell_type": "markdown",
      "metadata": {
        "id": "3IQfwlwnsbK3"
      },
      "source": [
        "###1.Splitting the data"
      ]
    },
    {
      "cell_type": "code",
      "metadata": {
        "id": "6nF5AmuiqYg1"
      },
      "source": [
        "# Definig input(x) and output(y)\n",
        "x=data.iloc[ : , :-1].values\n",
        "y=data.iloc[ : , 1].values\n",
        "\n",
        "#spliting the data into training and test sets by using Scikit-Learn's built-in method called train_test_split() \n",
        "x_train , x_test , y_train , y_test = train_test_split(x,y,random_state=0)"
      ],
      "execution_count": 7,
      "outputs": []
    },
    {
      "cell_type": "markdown",
      "metadata": {
        "id": "yhIg2l7sCLqt"
      },
      "source": [
        "####Training the Model \n"
      ]
    },
    {
      "cell_type": "code",
      "metadata": {
        "colab": {
          "base_uri": "https://localhost:8080/"
        },
        "id": "tPLkGDseCLNb",
        "outputId": "3d93bef5-4e68-43de-a896-038f0db52244"
      },
      "source": [
        "#Fitting the Data into Model\n",
        "regression = LinearRegression()\n",
        "regression.fit(x_train,y_train)\n",
        "print(\" ***** Training Completed Successfully *****\" )"
      ],
      "execution_count": 10,
      "outputs": [
        {
          "output_type": "stream",
          "text": [
            " ***** Training Completed Successfully *****\n"
          ],
          "name": "stdout"
        }
      ]
    },
    {
      "cell_type": "code",
      "metadata": {
        "colab": {
          "base_uri": "https://localhost:8080/",
          "height": 265
        },
        "id": "oaHRcXeTDw4W",
        "outputId": "48c2deba-4de5-4fe2-93f9-0aa90b162124"
      },
      "source": [
        "#Plotting the Regression Line \n",
        "regression_line = regression.coef_*x + regression.intercept_\n",
        "\n",
        "#plotting the Regression line using scatter\n",
        "plt.scatter(x ,y)\n",
        "plt.plot(x,regression_line)\n",
        "plt.show()"
      ],
      "execution_count": 12,
      "outputs": [
        {
          "output_type": "display_data",
          "data": {
            "image/png": "[encoded data removed]",
            "text/plain": [
              "<Figure size 432x288 with 1 Axes>"
            ]
          },
          "metadata": {
            "tags": [],
            "needs_background": "light"
          }
        }
      ]
    },
    {
      "cell_type": "markdown",
      "metadata": {
        "id": "gbKVMB-gElGu"
      },
      "source": [
        "####Making Predictions for our Trained Model\n",
        "\n",
        "\n",
        "\n"
      ]
    },
    {
      "cell_type": "code",
      "metadata": {
        "colab": {
          "base_uri": "https://localhost:8080/",
          "height": 265
        },
        "id": "2Ue_zK4HEk2T",
        "outputId": "1868be57-c47d-4dda-c519-f4835b608186"
      },
      "source": [
        "#Predicting the Percentage of Marks\n",
        "y_pred = regression.predict(x_test)\n",
        "prediction = pd.DataFrame( { 'Hours' : [i[0] for i in x_test], 'Predicted Score':[k for k in y_pred] } )\n",
        "prediction\n",
        "#note:\n",
        "    # you can simply use y_pred = regression.predict(X_test) \n",
        "    # but it gives output as Hours"
      ],
      "execution_count": 19,
      "outputs": [
        {
          "output_type": "execute_result",
          "data": {
            "text/html": [
              "<div>\n",
              "<style scoped>\n",
              "    .dataframe tbody tr th:only-of-type {\n",
              "        vertical-align: middle;\n",
              "    }\n",
              "\n",
              "    .dataframe tbody tr th {\n",
              "        vertical-align: top;\n",
              "    }\n",
              "\n",
              "    .dataframe thead th {\n",
              "        text-align: right;\n",
              "    }\n",
              "</style>\n",
              "<table border=\"1\" class=\"dataframe\">\n",
              "  <thead>\n",
              "    <tr style=\"text-align: right;\">\n",
              "      <th></th>\n",
              "      <th>Hours</th>\n",
              "      <th>Predicted Score</th>\n",
              "    </tr>\n",
              "  </thead>\n",
              "  <tbody>\n",
              "    <tr>\n",
              "      <th>0</th>\n",
              "      <td>1.5</td>\n",
              "      <td>16.844722</td>\n",
              "    </tr>\n",
              "    <tr>\n",
              "      <th>1</th>\n",
              "      <td>3.2</td>\n",
              "      <td>33.745575</td>\n",
              "    </tr>\n",
              "    <tr>\n",
              "      <th>2</th>\n",
              "      <td>7.4</td>\n",
              "      <td>75.500624</td>\n",
              "    </tr>\n",
              "    <tr>\n",
              "      <th>3</th>\n",
              "      <td>2.5</td>\n",
              "      <td>26.786400</td>\n",
              "    </tr>\n",
              "    <tr>\n",
              "      <th>4</th>\n",
              "      <td>5.9</td>\n",
              "      <td>60.588106</td>\n",
              "    </tr>\n",
              "    <tr>\n",
              "      <th>5</th>\n",
              "      <td>3.8</td>\n",
              "      <td>39.710582</td>\n",
              "    </tr>\n",
              "    <tr>\n",
              "      <th>6</th>\n",
              "      <td>1.9</td>\n",
              "      <td>20.821393</td>\n",
              "    </tr>\n",
              "  </tbody>\n",
              "</table>\n",
              "</div>"
            ],
            "text/plain": [
              "   Hours  Predicted Score\n",
              "0    1.5        16.844722\n",
              "1    3.2        33.745575\n",
              "2    7.4        75.500624\n",
              "3    2.5        26.786400\n",
              "4    5.9        60.588106\n",
              "5    3.8        39.710582\n",
              "6    1.9        20.821393"
            ]
          },
          "metadata": {
            "tags": []
          },
          "execution_count": 19
        }
      ]
    },
    {
      "cell_type": "markdown",
      "metadata": {
        "id": "POqZXFalG1hh"
      },
      "source": [
        "####Comparing the Predicted Marks with the Actual Marks\n"
      ]
    },
    {
      "cell_type": "code",
      "metadata": {
        "colab": {
          "base_uri": "https://localhost:8080/",
          "height": 265
        },
        "id": "xCOth3KeG5xv",
        "outputId": "d94e674c-4f8b-4e14-927f-884229bbe673"
      },
      "source": [
        "# Comparing ActualScores vs Predicted Scores\n",
        "compared_Scores = pd.DataFrame({'Actual Score' : y_test , 'Prdicted Score' : y_pred   } )\n",
        "compared_Scores"
      ],
      "execution_count": 20,
      "outputs": [
        {
          "output_type": "execute_result",
          "data": {
            "text/html": [
              "<div>\n",
              "<style scoped>\n",
              "    .dataframe tbody tr th:only-of-type {\n",
              "        vertical-align: middle;\n",
              "    }\n",
              "\n",
              "    .dataframe tbody tr th {\n",
              "        vertical-align: top;\n",
              "    }\n",
              "\n",
              "    .dataframe thead th {\n",
              "        text-align: right;\n",
              "    }\n",
              "</style>\n",
              "<table border=\"1\" class=\"dataframe\">\n",
              "  <thead>\n",
              "    <tr style=\"text-align: right;\">\n",
              "      <th></th>\n",
              "      <th>Actual Score</th>\n",
              "      <th>Prdicted Score</th>\n",
              "    </tr>\n",
              "  </thead>\n",
              "  <tbody>\n",
              "    <tr>\n",
              "      <th>0</th>\n",
              "      <td>20</td>\n",
              "      <td>16.844722</td>\n",
              "    </tr>\n",
              "    <tr>\n",
              "      <th>1</th>\n",
              "      <td>27</td>\n",
              "      <td>33.745575</td>\n",
              "    </tr>\n",
              "    <tr>\n",
              "      <th>2</th>\n",
              "      <td>69</td>\n",
              "      <td>75.500624</td>\n",
              "    </tr>\n",
              "    <tr>\n",
              "      <th>3</th>\n",
              "      <td>30</td>\n",
              "      <td>26.786400</td>\n",
              "    </tr>\n",
              "    <tr>\n",
              "      <th>4</th>\n",
              "      <td>62</td>\n",
              "      <td>60.588106</td>\n",
              "    </tr>\n",
              "    <tr>\n",
              "      <th>5</th>\n",
              "      <td>35</td>\n",
              "      <td>39.710582</td>\n",
              "    </tr>\n",
              "    <tr>\n",
              "      <th>6</th>\n",
              "      <td>24</td>\n",
              "      <td>20.821393</td>\n",
              "    </tr>\n",
              "  </tbody>\n",
              "</table>\n",
              "</div>"
            ],
            "text/plain": [
              "   Actual Score  Prdicted Score\n",
              "0            20       16.844722\n",
              "1            27       33.745575\n",
              "2            69       75.500624\n",
              "3            30       26.786400\n",
              "4            62       60.588106\n",
              "5            35       39.710582\n",
              "6            24       20.821393"
            ]
          },
          "metadata": {
            "tags": []
          },
          "execution_count": 20
        }
      ]
    },
    {
      "cell_type": "markdown",
      "metadata": {
        "id": "zMixxa5WH9Ct"
      },
      "source": [
        "###Visually Comparing the Predicted Score with the Actual Score\n"
      ]
    },
    {
      "cell_type": "code",
      "metadata": {
        "colab": {
          "base_uri": "https://localhost:8080/",
          "height": 295
        },
        "id": "djE6pS8WIAkT",
        "outputId": "cac2b915-31de-41f8-b968-bd68ba48b70e"
      },
      "source": [
        "##Plotting the Regression line for Predicted Score and Actual Score\n",
        "plt.scatter(x=x_test, y=y_test)\n",
        "plt.plot(x_test, y_pred)\n",
        "\n",
        "plt.title('Actual Score vs Predicted Score')\n",
        "plt.xlabel('Hours Studied')\n",
        "plt.ylabel('Scores Percentage')\n",
        "plt.show()"
      ],
      "execution_count": 23,
      "outputs": [
        {
          "output_type": "display_data",
          "data": {
            "image/png": "[encoded data removed]",
            "text/plain": [
              "<Figure size 432x288 with 1 Axes>"
            ]
          },
          "metadata": {
            "tags": [],
            "needs_background": "light"
          }
        }
      ]
    },
    {
      "cell_type": "markdown",
      "metadata": {
        "id": "XFWXAeeaJQFS"
      },
      "source": [
        "###Evaluating the Performance of Model (Finding the Absolute Mean Error)\n"
      ]
    },
    {
      "cell_type": "code",
      "metadata": {
        "colab": {
          "base_uri": "https://localhost:8080/"
        },
        "id": "dhJAfIK2JZKj",
        "outputId": "59596df4-1b61-47d7-bd08-d6ee53c6d460"
      },
      "source": [
        "# Calculating the accuracy of the model\n",
        "print('Mean Absolute Error: ',mean_absolute_error(y_test,y_pred))"
      ],
      "execution_count": 25,
      "outputs": [
        {
          "output_type": "stream",
          "text": [
            "Mean Absolute Error:  4.130879918502482\n"
          ],
          "name": "stdout"
        }
      ]
    },
    {
      "cell_type": "markdown",
      "metadata": {
        "id": "GSgZrupuKHAe"
      },
      "source": [
        "Small value of Mean absolute error states that the chances of error or wrong forecasting through the model are very less.\n",
        "\n"
      ]
    },
    {
      "cell_type": "markdown",
      "metadata": {
        "id": "-KarX2usKPY5"
      },
      "source": [
        "###What will be the predicted score of a student if he/she studies for 9.25 hrs/ day?\n"
      ]
    },
    {
      "cell_type": "code",
      "metadata": {
        "colab": {
          "base_uri": "https://localhost:8080/"
        },
        "id": "tgf5oX_nKPFO",
        "outputId": "2cbb8085-ae3d-49ba-a453-00344b3bd7f7"
      },
      "source": [
        "#predicting the Score (Output) by Giving No.of Hours Studied as Input\n",
        "input_hours = [9.25] \n",
        "output_score = regression.predict([input])\n",
        "\n",
        "print(\"No of Hours Studied = {}\".format(input_hours))\n",
        "print(\"Predicted Score  = {}\".format(output_score[0]))\n",
        "print(\"Rounding Predicted Score for Percentage  = {}%\".format(round(output_score[0])))"
      ],
      "execution_count": 34,
      "outputs": [
        {
          "output_type": "stream",
          "text": [
            "No of Hours Studied = [9.25]\n",
            "Predicted Score  = 93.89272889341652\n",
            "Rounding Predicted Score for Percentage  = 94%\n"
          ],
          "name": "stdout"
        }
      ]
    },
    {
      "cell_type": "markdown",
      "metadata": {
        "id": "vYc1-tdXO-rV"
      },
      "source": [
        "#Thank You :)"
      ]
    }
  ]
}